{
 "cells": [
  {
   "cell_type": "code",
   "execution_count": 1,
   "metadata": {},
   "outputs": [],
   "source": [
    "import sys\n",
    "sys.path.append('C:\\\\Users\\\\gabri\\\\my_projects\\\\stock_analysis')\n",
    "\n",
    "import plotly.express as px\n",
    "import pandas as pd\n",
    "from stock import yfScraper, StockAnalyzer, TickerScraper\n",
    "import numpy as np\n",
    "import plotly.graph_objects as go\n",
    "from datetime import datetime\n",
    "import json\n",
    "\n",
    "pd.set_option('display.max_columns', 100)"
   ]
  },
  {
   "cell_type": "code",
   "execution_count": 2,
   "metadata": {},
   "outputs": [
    {
     "name": "stdout",
     "output_type": "stream",
     "text": [
      "File exists, successfully loaded attributes file: C:\\Users\\gabri\\my_projects\\stock_analysis\\ticker_attributes.json\n"
     ]
    }
   ],
   "source": [
    "scrape = yfScraper(r'C:\\Users\\gabri\\my_projects\\stock_analysis\\ticker_attributes.json')\n",
    "tickers = ['NTAP', 'SOLV']"
   ]
  },
  {
   "cell_type": "code",
   "execution_count": 3,
   "metadata": {},
   "outputs": [
    {
     "data": {
      "text/html": [
       "<div>\n",
       "<style scoped>\n",
       "    .dataframe tbody tr th:only-of-type {\n",
       "        vertical-align: middle;\n",
       "    }\n",
       "\n",
       "    .dataframe tbody tr th {\n",
       "        vertical-align: top;\n",
       "    }\n",
       "\n",
       "    .dataframe thead th {\n",
       "        text-align: right;\n",
       "    }\n",
       "</style>\n",
       "<table border=\"1\" class=\"dataframe\">\n",
       "  <thead>\n",
       "    <tr style=\"text-align: right;\">\n",
       "      <th></th>\n",
       "      <th>ticker</th>\n",
       "      <th>ticker_info.security</th>\n",
       "      <th>ticker_info.gics_sector</th>\n",
       "      <th>ticker_info.gics_sub_industry</th>\n",
       "      <th>ticker_info.headquarters_location</th>\n",
       "      <th>ticker_info.date_added</th>\n",
       "      <th>ticker_info.cik</th>\n",
       "      <th>ticker_info.founded</th>\n",
       "      <th>ticker_summary.date</th>\n",
       "      <th>ticker_summary.regular_market_price</th>\n",
       "      <th>ticker_summary.regular_market_change</th>\n",
       "      <th>ticker_summary.regular_market_change_percent</th>\n",
       "      <th>ticker_summary.post_market_price</th>\n",
       "      <th>ticker_summary.post_market_change</th>\n",
       "      <th>ticker_summary.post_market_change_percent</th>\n",
       "      <th>ticker_summary.previous_close</th>\n",
       "      <th>ticker_summary.open_value</th>\n",
       "      <th>ticker_summary.bid</th>\n",
       "      <th>ticker_summary.ask</th>\n",
       "      <th>ticker_summary.days_range</th>\n",
       "      <th>ticker_summary.52_week_range</th>\n",
       "      <th>ticker_summary.volume</th>\n",
       "      <th>ticker_summary.avg_volume</th>\n",
       "      <th>ticker_summary.market_cap</th>\n",
       "      <th>ticker_summary.beta</th>\n",
       "      <th>ticker_summary.pe_ratio</th>\n",
       "      <th>ticker_summary.eps</th>\n",
       "      <th>ticker_summary.earnings_date</th>\n",
       "      <th>ticker_summary.forward_dividend_yield</th>\n",
       "      <th>ticker_summary.ex_dividend_date</th>\n",
       "      <th>ticker_summary.year_target_est</th>\n",
       "      <th>ticker_stock_price.to_unix</th>\n",
       "      <th>ticker_stock_price.from_unix</th>\n",
       "      <th>ticker_stock_price.from_date</th>\n",
       "      <th>ticker_stock_price.to_date</th>\n",
       "      <th>ticker_stock_price.interval</th>\n",
       "      <th>ticker_stock_price.frequency</th>\n",
       "      <th>ticker_stock_price.url</th>\n",
       "      <th>ticker_stock_price.raw_csv_destination</th>\n",
       "      <th>ticker_stock_price.processed_csv_destination</th>\n",
       "    </tr>\n",
       "  </thead>\n",
       "  <tbody>\n",
       "    <tr>\n",
       "      <th>336</th>\n",
       "      <td>NTAP</td>\n",
       "      <td>NetApp</td>\n",
       "      <td>Information Technology</td>\n",
       "      <td>Technology Hardware, Storage &amp; Peripherals</td>\n",
       "      <td>San Jose, California</td>\n",
       "      <td>1999-06-25</td>\n",
       "      <td>0001002047</td>\n",
       "      <td>1992</td>\n",
       "      <td>2024-06-14 20:51:46</td>\n",
       "      <td>126.17</td>\n",
       "      <td>-1.13</td>\n",
       "      <td>(-0.89%)</td>\n",
       "      <td>126.17</td>\n",
       "      <td>0.00</td>\n",
       "      <td>(0.00%)</td>\n",
       "      <td>127.30</td>\n",
       "      <td>125.86</td>\n",
       "      <td>126.14 x 200</td>\n",
       "      <td>126.22 x 200</td>\n",
       "      <td>125.81 - 127.16</td>\n",
       "      <td>70.82 - 127.97</td>\n",
       "      <td>1,397,993</td>\n",
       "      <td>1,950,471</td>\n",
       "      <td>25.966B</td>\n",
       "      <td>1.24</td>\n",
       "      <td>27.25</td>\n",
       "      <td>4.63</td>\n",
       "      <td>Aug 28, 2024</td>\n",
       "      <td>2.02 (1.59%)</td>\n",
       "      <td>Jul 5, 2024</td>\n",
       "      <td>126.01</td>\n",
       "      <td>1.718496e+09</td>\n",
       "      <td>8.169120e+08</td>\n",
       "      <td>1995-11-21</td>\n",
       "      <td>2024-06-16</td>\n",
       "      <td>1d</td>\n",
       "      <td>1d</td>\n",
       "      <td>https://finance.yahoo.com/quote//NTAP/history?...</td>\n",
       "      <td>C:\\Users\\gabri\\my_projects\\stock_analysis\\data...</td>\n",
       "      <td>C:\\Users\\gabri\\my_projects\\stock_analysis\\data...</td>\n",
       "    </tr>\n",
       "    <tr>\n",
       "      <th>421</th>\n",
       "      <td>SOLV</td>\n",
       "      <td>Solventum</td>\n",
       "      <td>Health Care</td>\n",
       "      <td>Health Care Technology</td>\n",
       "      <td>Saint Paul, Minnesota</td>\n",
       "      <td>2024-04-01</td>\n",
       "      <td>0001964738</td>\n",
       "      <td>2023</td>\n",
       "      <td>2024-06-14 21:03:26</td>\n",
       "      <td>54.56</td>\n",
       "      <td>+0.43</td>\n",
       "      <td>(+0.79%)</td>\n",
       "      <td>54.50</td>\n",
       "      <td>-0.06</td>\n",
       "      <td>(-0.11%)</td>\n",
       "      <td>54.13</td>\n",
       "      <td>52.96</td>\n",
       "      <td>53.48 x 900</td>\n",
       "      <td>54.98 x 1000</td>\n",
       "      <td>52.58 - 54.78</td>\n",
       "      <td>52.58 - 72.40</td>\n",
       "      <td>1,347,476</td>\n",
       "      <td>2,498,669</td>\n",
       "      <td>9.423B</td>\n",
       "      <td>--</td>\n",
       "      <td>--</td>\n",
       "      <td>--</td>\n",
       "      <td>--</td>\n",
       "      <td>--</td>\n",
       "      <td>--</td>\n",
       "      <td>65.75</td>\n",
       "      <td>1.718496e+09</td>\n",
       "      <td>1.711930e+09</td>\n",
       "      <td>2024-04-01</td>\n",
       "      <td>2024-06-16</td>\n",
       "      <td>1d</td>\n",
       "      <td>1d</td>\n",
       "      <td>https://finance.yahoo.com/quote//SOLV/history?...</td>\n",
       "      <td>C:\\Users\\gabri\\my_projects\\stock_analysis\\data...</td>\n",
       "      <td>C:\\Users\\gabri\\my_projects\\stock_analysis\\data...</td>\n",
       "    </tr>\n",
       "  </tbody>\n",
       "</table>\n",
       "</div>"
      ],
      "text/plain": [
       "    ticker ticker_info.security ticker_info.gics_sector  \\\n",
       "336   NTAP               NetApp  Information Technology   \n",
       "421   SOLV            Solventum             Health Care   \n",
       "\n",
       "                  ticker_info.gics_sub_industry  \\\n",
       "336  Technology Hardware, Storage & Peripherals   \n",
       "421                      Health Care Technology   \n",
       "\n",
       "    ticker_info.headquarters_location ticker_info.date_added ticker_info.cik  \\\n",
       "336              San Jose, California             1999-06-25      0001002047   \n",
       "421             Saint Paul, Minnesota             2024-04-01      0001964738   \n",
       "\n",
       "    ticker_info.founded  ticker_summary.date  \\\n",
       "336                1992  2024-06-14 20:51:46   \n",
       "421                2023  2024-06-14 21:03:26   \n",
       "\n",
       "    ticker_summary.regular_market_price ticker_summary.regular_market_change  \\\n",
       "336                              126.17                                -1.13   \n",
       "421                               54.56                                +0.43   \n",
       "\n",
       "    ticker_summary.regular_market_change_percent  \\\n",
       "336                                     (-0.89%)   \n",
       "421                                     (+0.79%)   \n",
       "\n",
       "    ticker_summary.post_market_price ticker_summary.post_market_change  \\\n",
       "336                           126.17                              0.00   \n",
       "421                            54.50                             -0.06   \n",
       "\n",
       "    ticker_summary.post_market_change_percent ticker_summary.previous_close  \\\n",
       "336                                   (0.00%)                        127.30   \n",
       "421                                  (-0.11%)                         54.13   \n",
       "\n",
       "    ticker_summary.open_value ticker_summary.bid ticker_summary.ask  \\\n",
       "336                    125.86       126.14 x 200       126.22 x 200   \n",
       "421                     52.96        53.48 x 900       54.98 x 1000   \n",
       "\n",
       "    ticker_summary.days_range ticker_summary.52_week_range  \\\n",
       "336           125.81 - 127.16               70.82 - 127.97   \n",
       "421             52.58 - 54.78                52.58 - 72.40   \n",
       "\n",
       "    ticker_summary.volume ticker_summary.avg_volume ticker_summary.market_cap  \\\n",
       "336             1,397,993                 1,950,471                   25.966B   \n",
       "421             1,347,476                 2,498,669                    9.423B   \n",
       "\n",
       "    ticker_summary.beta ticker_summary.pe_ratio ticker_summary.eps  \\\n",
       "336                1.24                   27.25               4.63   \n",
       "421                  --                      --                 --   \n",
       "\n",
       "    ticker_summary.earnings_date ticker_summary.forward_dividend_yield  \\\n",
       "336                 Aug 28, 2024                          2.02 (1.59%)   \n",
       "421                           --                                    --   \n",
       "\n",
       "    ticker_summary.ex_dividend_date ticker_summary.year_target_est  \\\n",
       "336                     Jul 5, 2024                         126.01   \n",
       "421                              --                          65.75   \n",
       "\n",
       "     ticker_stock_price.to_unix  ticker_stock_price.from_unix  \\\n",
       "336                1.718496e+09                  8.169120e+08   \n",
       "421                1.718496e+09                  1.711930e+09   \n",
       "\n",
       "    ticker_stock_price.from_date ticker_stock_price.to_date  \\\n",
       "336                   1995-11-21                 2024-06-16   \n",
       "421                   2024-04-01                 2024-06-16   \n",
       "\n",
       "    ticker_stock_price.interval ticker_stock_price.frequency  \\\n",
       "336                          1d                           1d   \n",
       "421                          1d                           1d   \n",
       "\n",
       "                                ticker_stock_price.url  \\\n",
       "336  https://finance.yahoo.com/quote//NTAP/history?...   \n",
       "421  https://finance.yahoo.com/quote//SOLV/history?...   \n",
       "\n",
       "                ticker_stock_price.raw_csv_destination  \\\n",
       "336  C:\\Users\\gabri\\my_projects\\stock_analysis\\data...   \n",
       "421  C:\\Users\\gabri\\my_projects\\stock_analysis\\data...   \n",
       "\n",
       "          ticker_stock_price.processed_csv_destination  \n",
       "336  C:\\Users\\gabri\\my_projects\\stock_analysis\\data...  \n",
       "421  C:\\Users\\gabri\\my_projects\\stock_analysis\\data...  "
      ]
     },
     "execution_count": 3,
     "metadata": {},
     "output_type": "execute_result"
    }
   ],
   "source": [
    "df_att = scrape.attributes_df(tickers)\n",
    "df_att"
   ]
  },
  {
   "cell_type": "code",
   "execution_count": 4,
   "metadata": {},
   "outputs": [
    {
     "data": {
      "text/html": [
       "<div>\n",
       "<style scoped>\n",
       "    .dataframe tbody tr th:only-of-type {\n",
       "        vertical-align: middle;\n",
       "    }\n",
       "\n",
       "    .dataframe tbody tr th {\n",
       "        vertical-align: top;\n",
       "    }\n",
       "\n",
       "    .dataframe thead th {\n",
       "        text-align: right;\n",
       "    }\n",
       "</style>\n",
       "<table border=\"1\" class=\"dataframe\">\n",
       "  <thead>\n",
       "    <tr style=\"text-align: right;\">\n",
       "      <th></th>\n",
       "      <th>date</th>\n",
       "      <th>open</th>\n",
       "      <th>high</th>\n",
       "      <th>low</th>\n",
       "      <th>close</th>\n",
       "      <th>adj_close</th>\n",
       "      <th>volume</th>\n",
       "      <th>ticker</th>\n",
       "    </tr>\n",
       "  </thead>\n",
       "  <tbody>\n",
       "    <tr>\n",
       "      <th>0</th>\n",
       "      <td>2024-06-14</td>\n",
       "      <td>126.04</td>\n",
       "      <td>127.16</td>\n",
       "      <td>125.81</td>\n",
       "      <td>126.17</td>\n",
       "      <td>126.17</td>\n",
       "      <td>1398000.0</td>\n",
       "      <td>NTAP</td>\n",
       "    </tr>\n",
       "    <tr>\n",
       "      <th>1</th>\n",
       "      <td>2024-06-13</td>\n",
       "      <td>125.42</td>\n",
       "      <td>127.63</td>\n",
       "      <td>125.28</td>\n",
       "      <td>127.30</td>\n",
       "      <td>127.30</td>\n",
       "      <td>1604400.0</td>\n",
       "      <td>NTAP</td>\n",
       "    </tr>\n",
       "    <tr>\n",
       "      <th>2</th>\n",
       "      <td>2024-06-12</td>\n",
       "      <td>126.28</td>\n",
       "      <td>127.97</td>\n",
       "      <td>125.24</td>\n",
       "      <td>125.73</td>\n",
       "      <td>125.73</td>\n",
       "      <td>2239400.0</td>\n",
       "      <td>NTAP</td>\n",
       "    </tr>\n",
       "    <tr>\n",
       "      <th>3</th>\n",
       "      <td>2024-06-11</td>\n",
       "      <td>122.81</td>\n",
       "      <td>125.78</td>\n",
       "      <td>122.35</td>\n",
       "      <td>125.47</td>\n",
       "      <td>125.47</td>\n",
       "      <td>2850500.0</td>\n",
       "      <td>NTAP</td>\n",
       "    </tr>\n",
       "    <tr>\n",
       "      <th>4</th>\n",
       "      <td>2024-06-10</td>\n",
       "      <td>120.42</td>\n",
       "      <td>122.91</td>\n",
       "      <td>120.28</td>\n",
       "      <td>122.91</td>\n",
       "      <td>122.91</td>\n",
       "      <td>1652000.0</td>\n",
       "      <td>NTAP</td>\n",
       "    </tr>\n",
       "    <tr>\n",
       "      <th>...</th>\n",
       "      <td>...</td>\n",
       "      <td>...</td>\n",
       "      <td>...</td>\n",
       "      <td>...</td>\n",
       "      <td>...</td>\n",
       "      <td>...</td>\n",
       "      <td>...</td>\n",
       "      <td>...</td>\n",
       "    </tr>\n",
       "    <tr>\n",
       "      <th>7287</th>\n",
       "      <td>2024-04-05</td>\n",
       "      <td>65.97</td>\n",
       "      <td>70.15</td>\n",
       "      <td>65.18</td>\n",
       "      <td>70.06</td>\n",
       "      <td>70.06</td>\n",
       "      <td>4216300.0</td>\n",
       "      <td>SOLV</td>\n",
       "    </tr>\n",
       "    <tr>\n",
       "      <th>7288</th>\n",
       "      <td>2024-04-04</td>\n",
       "      <td>63.05</td>\n",
       "      <td>68.17</td>\n",
       "      <td>62.33</td>\n",
       "      <td>67.00</td>\n",
       "      <td>67.00</td>\n",
       "      <td>5239700.0</td>\n",
       "      <td>SOLV</td>\n",
       "    </tr>\n",
       "    <tr>\n",
       "      <th>7289</th>\n",
       "      <td>2024-04-03</td>\n",
       "      <td>65.53</td>\n",
       "      <td>67.77</td>\n",
       "      <td>63.86</td>\n",
       "      <td>63.89</td>\n",
       "      <td>63.89</td>\n",
       "      <td>5177200.0</td>\n",
       "      <td>SOLV</td>\n",
       "    </tr>\n",
       "    <tr>\n",
       "      <th>7290</th>\n",
       "      <td>2024-04-02</td>\n",
       "      <td>67.67</td>\n",
       "      <td>68.59</td>\n",
       "      <td>64.46</td>\n",
       "      <td>66.90</td>\n",
       "      <td>66.90</td>\n",
       "      <td>9446900.0</td>\n",
       "      <td>SOLV</td>\n",
       "    </tr>\n",
       "    <tr>\n",
       "      <th>7291</th>\n",
       "      <td>2024-04-01</td>\n",
       "      <td>69.15</td>\n",
       "      <td>72.40</td>\n",
       "      <td>65.00</td>\n",
       "      <td>69.10</td>\n",
       "      <td>69.10</td>\n",
       "      <td>14094900.0</td>\n",
       "      <td>SOLV</td>\n",
       "    </tr>\n",
       "  </tbody>\n",
       "</table>\n",
       "<p>7292 rows × 8 columns</p>\n",
       "</div>"
      ],
      "text/plain": [
       "            date    open    high     low   close  adj_close      volume ticker\n",
       "0     2024-06-14  126.04  127.16  125.81  126.17     126.17   1398000.0   NTAP\n",
       "1     2024-06-13  125.42  127.63  125.28  127.30     127.30   1604400.0   NTAP\n",
       "2     2024-06-12  126.28  127.97  125.24  125.73     125.73   2239400.0   NTAP\n",
       "3     2024-06-11  122.81  125.78  122.35  125.47     125.47   2850500.0   NTAP\n",
       "4     2024-06-10  120.42  122.91  120.28  122.91     122.91   1652000.0   NTAP\n",
       "...          ...     ...     ...     ...     ...        ...         ...    ...\n",
       "7287  2024-04-05   65.97   70.15   65.18   70.06      70.06   4216300.0   SOLV\n",
       "7288  2024-04-04   63.05   68.17   62.33   67.00      67.00   5239700.0   SOLV\n",
       "7289  2024-04-03   65.53   67.77   63.86   63.89      63.89   5177200.0   SOLV\n",
       "7290  2024-04-02   67.67   68.59   64.46   66.90      66.90   9446900.0   SOLV\n",
       "7291  2024-04-01   69.15   72.40   65.00   69.10      69.10  14094900.0   SOLV\n",
       "\n",
       "[7292 rows x 8 columns]"
      ]
     },
     "execution_count": 4,
     "metadata": {},
     "output_type": "execute_result"
    }
   ],
   "source": [
    "df_p = scrape.get_stock_price_dfs(tickers)\n",
    "df_p"
   ]
  },
  {
   "cell_type": "code",
   "execution_count": 12,
   "metadata": {},
   "outputs": [
    {
     "data": {
      "application/vnd.plotly.v1+json": {
       "config": {
        "plotlyServerURL": "https://plot.ly"
       },
       "data": [
        {
         "close": [
          54.56,
          54.13,
          56.16,
          56.54,
          56.71,
          56.41,
          55.05,
          55.73,
          55.61,
          57.05,
          59.34,
          58.35,
          59.72,
          59.86,
          60.45,
          59.93,
          61.89,
          61.22,
          62.03,
          62.38,
          61.56,
          62.44,
          65.1,
          63.14,
          63.74,
          64.83,
          66.43,
          65.56,
          64.69,
          64.65,
          65.14,
          65.15,
          65.01,
          65.91,
          64.43,
          61.83,
          63.54,
          63.5,
          62.07,
          62.2,
          64.03,
          61.75,
          61.95,
          61.69,
          62.75,
          63.17,
          63.89,
          65.52,
          67.01,
          70.06,
          67,
          63.89,
          66.9,
          69.1
         ],
         "high": [
          54.78,
          56.7,
          57.14,
          56.79,
          57.28,
          56.78,
          55.44,
          56.01,
          57.25,
          59.87,
          59.4,
          59.16,
          60.12,
          60.25,
          60.78,
          61.6,
          62.24,
          62.25,
          62.82,
          62.42,
          62.03,
          65.18,
          65.4,
          64.43,
          64.81,
          67.5,
          66.96,
          65.89,
          65.11,
          65.56,
          66.23,
          66.85,
          65.86,
          66.67,
          64.69,
          63.07,
          64.18,
          64.19,
          62.76,
          64.06,
          64.11,
          62.67,
          62.99,
          63.79,
          63.25,
          64.3,
          64.93,
          68,
          71.65,
          70.15,
          68.17,
          67.77,
          68.59,
          72.4
         ],
         "low": [
          52.58,
          54,
          56.13,
          56.18,
          56.05,
          54.47,
          54.47,
          54.75,
          55.5,
          56.81,
          57.19,
          56.72,
          59.23,
          59.34,
          59.06,
          59.88,
          60.92,
          61.14,
          61.85,
          61,
          60.57,
          62.23,
          63.46,
          63.12,
          63.03,
          63.49,
          65.15,
          64.46,
          64.3,
          63.8,
          64.7,
          64.29,
          63.75,
          63.04,
          61.32,
          60.72,
          62.78,
          61.85,
          61.83,
          61.99,
          61.38,
          61.5,
          61.66,
          61.56,
          61.87,
          62.3,
          63.59,
          65.01,
          66.25,
          65.18,
          62.33,
          63.86,
          64.46,
          65
         ],
         "open": [
          52.96,
          55.83,
          56.87,
          56.6,
          56.05,
          54.5,
          55.38,
          55.61,
          56.82,
          59.34,
          58.06,
          59.11,
          59.23,
          60.2,
          59.81,
          61.28,
          61.07,
          61.8,
          62.46,
          61.8,
          62,
          64.83,
          63.61,
          64,
          63.8,
          65.52,
          65.23,
          64.79,
          64.7,
          65.43,
          65,
          64.95,
          65.21,
          63.49,
          61.46,
          62.75,
          62.85,
          62.03,
          62.25,
          63.58,
          61.84,
          61.82,
          62,
          62.1,
          62.5,
          63.57,
          64.68,
          65.48,
          70.06,
          65.97,
          63.05,
          65.53,
          67.67,
          69.15
         ],
         "type": "candlestick",
         "x": [
          "2024-06-14",
          "2024-06-13",
          "2024-06-12",
          "2024-06-11",
          "2024-06-10",
          "2024-06-07",
          "2024-06-06",
          "2024-06-05",
          "2024-06-04",
          "2024-06-03",
          "2024-05-31",
          "2024-05-30",
          "2024-05-29",
          "2024-05-28",
          "2024-05-24",
          "2024-05-23",
          "2024-05-22",
          "2024-05-21",
          "2024-05-20",
          "2024-05-17",
          "2024-05-16",
          "2024-05-15",
          "2024-05-14",
          "2024-05-13",
          "2024-05-10",
          "2024-05-09",
          "2024-05-08",
          "2024-05-07",
          "2024-05-06",
          "2024-05-03",
          "2024-05-02",
          "2024-05-01",
          "2024-04-30",
          "2024-04-29",
          "2024-04-26",
          "2024-04-25",
          "2024-04-24",
          "2024-04-23",
          "2024-04-22",
          "2024-04-19",
          "2024-04-18",
          "2024-04-17",
          "2024-04-16",
          "2024-04-15",
          "2024-04-12",
          "2024-04-11",
          "2024-04-10",
          "2024-04-09",
          "2024-04-08",
          "2024-04-05",
          "2024-04-04",
          "2024-04-03",
          "2024-04-02",
          "2024-04-01"
         ]
        }
       ],
       "layout": {
        "template": {
         "data": {
          "bar": [
           {
            "error_x": {
             "color": "#2a3f5f"
            },
            "error_y": {
             "color": "#2a3f5f"
            },
            "marker": {
             "line": {
              "color": "#E5ECF6",
              "width": 0.5
             },
             "pattern": {
              "fillmode": "overlay",
              "size": 10,
              "solidity": 0.2
             }
            },
            "type": "bar"
           }
          ],
          "barpolar": [
           {
            "marker": {
             "line": {
              "color": "#E5ECF6",
              "width": 0.5
             },
             "pattern": {
              "fillmode": "overlay",
              "size": 10,
              "solidity": 0.2
             }
            },
            "type": "barpolar"
           }
          ],
          "carpet": [
           {
            "aaxis": {
             "endlinecolor": "#2a3f5f",
             "gridcolor": "white",
             "linecolor": "white",
             "minorgridcolor": "white",
             "startlinecolor": "#2a3f5f"
            },
            "baxis": {
             "endlinecolor": "#2a3f5f",
             "gridcolor": "white",
             "linecolor": "white",
             "minorgridcolor": "white",
             "startlinecolor": "#2a3f5f"
            },
            "type": "carpet"
           }
          ],
          "choropleth": [
           {
            "colorbar": {
             "outlinewidth": 0,
             "ticks": ""
            },
            "type": "choropleth"
           }
          ],
          "contour": [
           {
            "colorbar": {
             "outlinewidth": 0,
             "ticks": ""
            },
            "colorscale": [
             [
              0,
              "#0d0887"
             ],
             [
              0.1111111111111111,
              "#46039f"
             ],
             [
              0.2222222222222222,
              "#7201a8"
             ],
             [
              0.3333333333333333,
              "#9c179e"
             ],
             [
              0.4444444444444444,
              "#bd3786"
             ],
             [
              0.5555555555555556,
              "#d8576b"
             ],
             [
              0.6666666666666666,
              "#ed7953"
             ],
             [
              0.7777777777777778,
              "#fb9f3a"
             ],
             [
              0.8888888888888888,
              "#fdca26"
             ],
             [
              1,
              "#f0f921"
             ]
            ],
            "type": "contour"
           }
          ],
          "contourcarpet": [
           {
            "colorbar": {
             "outlinewidth": 0,
             "ticks": ""
            },
            "type": "contourcarpet"
           }
          ],
          "heatmap": [
           {
            "colorbar": {
             "outlinewidth": 0,
             "ticks": ""
            },
            "colorscale": [
             [
              0,
              "#0d0887"
             ],
             [
              0.1111111111111111,
              "#46039f"
             ],
             [
              0.2222222222222222,
              "#7201a8"
             ],
             [
              0.3333333333333333,
              "#9c179e"
             ],
             [
              0.4444444444444444,
              "#bd3786"
             ],
             [
              0.5555555555555556,
              "#d8576b"
             ],
             [
              0.6666666666666666,
              "#ed7953"
             ],
             [
              0.7777777777777778,
              "#fb9f3a"
             ],
             [
              0.8888888888888888,
              "#fdca26"
             ],
             [
              1,
              "#f0f921"
             ]
            ],
            "type": "heatmap"
           }
          ],
          "heatmapgl": [
           {
            "colorbar": {
             "outlinewidth": 0,
             "ticks": ""
            },
            "colorscale": [
             [
              0,
              "#0d0887"
             ],
             [
              0.1111111111111111,
              "#46039f"
             ],
             [
              0.2222222222222222,
              "#7201a8"
             ],
             [
              0.3333333333333333,
              "#9c179e"
             ],
             [
              0.4444444444444444,
              "#bd3786"
             ],
             [
              0.5555555555555556,
              "#d8576b"
             ],
             [
              0.6666666666666666,
              "#ed7953"
             ],
             [
              0.7777777777777778,
              "#fb9f3a"
             ],
             [
              0.8888888888888888,
              "#fdca26"
             ],
             [
              1,
              "#f0f921"
             ]
            ],
            "type": "heatmapgl"
           }
          ],
          "histogram": [
           {
            "marker": {
             "pattern": {
              "fillmode": "overlay",
              "size": 10,
              "solidity": 0.2
             }
            },
            "type": "histogram"
           }
          ],
          "histogram2d": [
           {
            "colorbar": {
             "outlinewidth": 0,
             "ticks": ""
            },
            "colorscale": [
             [
              0,
              "#0d0887"
             ],
             [
              0.1111111111111111,
              "#46039f"
             ],
             [
              0.2222222222222222,
              "#7201a8"
             ],
             [
              0.3333333333333333,
              "#9c179e"
             ],
             [
              0.4444444444444444,
              "#bd3786"
             ],
             [
              0.5555555555555556,
              "#d8576b"
             ],
             [
              0.6666666666666666,
              "#ed7953"
             ],
             [
              0.7777777777777778,
              "#fb9f3a"
             ],
             [
              0.8888888888888888,
              "#fdca26"
             ],
             [
              1,
              "#f0f921"
             ]
            ],
            "type": "histogram2d"
           }
          ],
          "histogram2dcontour": [
           {
            "colorbar": {
             "outlinewidth": 0,
             "ticks": ""
            },
            "colorscale": [
             [
              0,
              "#0d0887"
             ],
             [
              0.1111111111111111,
              "#46039f"
             ],
             [
              0.2222222222222222,
              "#7201a8"
             ],
             [
              0.3333333333333333,
              "#9c179e"
             ],
             [
              0.4444444444444444,
              "#bd3786"
             ],
             [
              0.5555555555555556,
              "#d8576b"
             ],
             [
              0.6666666666666666,
              "#ed7953"
             ],
             [
              0.7777777777777778,
              "#fb9f3a"
             ],
             [
              0.8888888888888888,
              "#fdca26"
             ],
             [
              1,
              "#f0f921"
             ]
            ],
            "type": "histogram2dcontour"
           }
          ],
          "mesh3d": [
           {
            "colorbar": {
             "outlinewidth": 0,
             "ticks": ""
            },
            "type": "mesh3d"
           }
          ],
          "parcoords": [
           {
            "line": {
             "colorbar": {
              "outlinewidth": 0,
              "ticks": ""
             }
            },
            "type": "parcoords"
           }
          ],
          "pie": [
           {
            "automargin": true,
            "type": "pie"
           }
          ],
          "scatter": [
           {
            "fillpattern": {
             "fillmode": "overlay",
             "size": 10,
             "solidity": 0.2
            },
            "type": "scatter"
           }
          ],
          "scatter3d": [
           {
            "line": {
             "colorbar": {
              "outlinewidth": 0,
              "ticks": ""
             }
            },
            "marker": {
             "colorbar": {
              "outlinewidth": 0,
              "ticks": ""
             }
            },
            "type": "scatter3d"
           }
          ],
          "scattercarpet": [
           {
            "marker": {
             "colorbar": {
              "outlinewidth": 0,
              "ticks": ""
             }
            },
            "type": "scattercarpet"
           }
          ],
          "scattergeo": [
           {
            "marker": {
             "colorbar": {
              "outlinewidth": 0,
              "ticks": ""
             }
            },
            "type": "scattergeo"
           }
          ],
          "scattergl": [
           {
            "marker": {
             "colorbar": {
              "outlinewidth": 0,
              "ticks": ""
             }
            },
            "type": "scattergl"
           }
          ],
          "scattermapbox": [
           {
            "marker": {
             "colorbar": {
              "outlinewidth": 0,
              "ticks": ""
             }
            },
            "type": "scattermapbox"
           }
          ],
          "scatterpolar": [
           {
            "marker": {
             "colorbar": {
              "outlinewidth": 0,
              "ticks": ""
             }
            },
            "type": "scatterpolar"
           }
          ],
          "scatterpolargl": [
           {
            "marker": {
             "colorbar": {
              "outlinewidth": 0,
              "ticks": ""
             }
            },
            "type": "scatterpolargl"
           }
          ],
          "scatterternary": [
           {
            "marker": {
             "colorbar": {
              "outlinewidth": 0,
              "ticks": ""
             }
            },
            "type": "scatterternary"
           }
          ],
          "surface": [
           {
            "colorbar": {
             "outlinewidth": 0,
             "ticks": ""
            },
            "colorscale": [
             [
              0,
              "#0d0887"
             ],
             [
              0.1111111111111111,
              "#46039f"
             ],
             [
              0.2222222222222222,
              "#7201a8"
             ],
             [
              0.3333333333333333,
              "#9c179e"
             ],
             [
              0.4444444444444444,
              "#bd3786"
             ],
             [
              0.5555555555555556,
              "#d8576b"
             ],
             [
              0.6666666666666666,
              "#ed7953"
             ],
             [
              0.7777777777777778,
              "#fb9f3a"
             ],
             [
              0.8888888888888888,
              "#fdca26"
             ],
             [
              1,
              "#f0f921"
             ]
            ],
            "type": "surface"
           }
          ],
          "table": [
           {
            "cells": {
             "fill": {
              "color": "#EBF0F8"
             },
             "line": {
              "color": "white"
             }
            },
            "header": {
             "fill": {
              "color": "#C8D4E3"
             },
             "line": {
              "color": "white"
             }
            },
            "type": "table"
           }
          ]
         },
         "layout": {
          "annotationdefaults": {
           "arrowcolor": "#2a3f5f",
           "arrowhead": 0,
           "arrowwidth": 1
          },
          "autotypenumbers": "strict",
          "coloraxis": {
           "colorbar": {
            "outlinewidth": 0,
            "ticks": ""
           }
          },
          "colorscale": {
           "diverging": [
            [
             0,
             "#8e0152"
            ],
            [
             0.1,
             "#c51b7d"
            ],
            [
             0.2,
             "#de77ae"
            ],
            [
             0.3,
             "#f1b6da"
            ],
            [
             0.4,
             "#fde0ef"
            ],
            [
             0.5,
             "#f7f7f7"
            ],
            [
             0.6,
             "#e6f5d0"
            ],
            [
             0.7,
             "#b8e186"
            ],
            [
             0.8,
             "#7fbc41"
            ],
            [
             0.9,
             "#4d9221"
            ],
            [
             1,
             "#276419"
            ]
           ],
           "sequential": [
            [
             0,
             "#0d0887"
            ],
            [
             0.1111111111111111,
             "#46039f"
            ],
            [
             0.2222222222222222,
             "#7201a8"
            ],
            [
             0.3333333333333333,
             "#9c179e"
            ],
            [
             0.4444444444444444,
             "#bd3786"
            ],
            [
             0.5555555555555556,
             "#d8576b"
            ],
            [
             0.6666666666666666,
             "#ed7953"
            ],
            [
             0.7777777777777778,
             "#fb9f3a"
            ],
            [
             0.8888888888888888,
             "#fdca26"
            ],
            [
             1,
             "#f0f921"
            ]
           ],
           "sequentialminus": [
            [
             0,
             "#0d0887"
            ],
            [
             0.1111111111111111,
             "#46039f"
            ],
            [
             0.2222222222222222,
             "#7201a8"
            ],
            [
             0.3333333333333333,
             "#9c179e"
            ],
            [
             0.4444444444444444,
             "#bd3786"
            ],
            [
             0.5555555555555556,
             "#d8576b"
            ],
            [
             0.6666666666666666,
             "#ed7953"
            ],
            [
             0.7777777777777778,
             "#fb9f3a"
            ],
            [
             0.8888888888888888,
             "#fdca26"
            ],
            [
             1,
             "#f0f921"
            ]
           ]
          },
          "colorway": [
           "#636efa",
           "#EF553B",
           "#00cc96",
           "#ab63fa",
           "#FFA15A",
           "#19d3f3",
           "#FF6692",
           "#B6E880",
           "#FF97FF",
           "#FECB52"
          ],
          "font": {
           "color": "#2a3f5f"
          },
          "geo": {
           "bgcolor": "white",
           "lakecolor": "white",
           "landcolor": "#E5ECF6",
           "showlakes": true,
           "showland": true,
           "subunitcolor": "white"
          },
          "hoverlabel": {
           "align": "left"
          },
          "hovermode": "closest",
          "mapbox": {
           "style": "light"
          },
          "paper_bgcolor": "white",
          "plot_bgcolor": "#E5ECF6",
          "polar": {
           "angularaxis": {
            "gridcolor": "white",
            "linecolor": "white",
            "ticks": ""
           },
           "bgcolor": "#E5ECF6",
           "radialaxis": {
            "gridcolor": "white",
            "linecolor": "white",
            "ticks": ""
           }
          },
          "scene": {
           "xaxis": {
            "backgroundcolor": "#E5ECF6",
            "gridcolor": "white",
            "gridwidth": 2,
            "linecolor": "white",
            "showbackground": true,
            "ticks": "",
            "zerolinecolor": "white"
           },
           "yaxis": {
            "backgroundcolor": "#E5ECF6",
            "gridcolor": "white",
            "gridwidth": 2,
            "linecolor": "white",
            "showbackground": true,
            "ticks": "",
            "zerolinecolor": "white"
           },
           "zaxis": {
            "backgroundcolor": "#E5ECF6",
            "gridcolor": "white",
            "gridwidth": 2,
            "linecolor": "white",
            "showbackground": true,
            "ticks": "",
            "zerolinecolor": "white"
           }
          },
          "shapedefaults": {
           "line": {
            "color": "#2a3f5f"
           }
          },
          "ternary": {
           "aaxis": {
            "gridcolor": "white",
            "linecolor": "white",
            "ticks": ""
           },
           "baxis": {
            "gridcolor": "white",
            "linecolor": "white",
            "ticks": ""
           },
           "bgcolor": "#E5ECF6",
           "caxis": {
            "gridcolor": "white",
            "linecolor": "white",
            "ticks": ""
           }
          },
          "title": {
           "x": 0.05
          },
          "xaxis": {
           "automargin": true,
           "gridcolor": "white",
           "linecolor": "white",
           "ticks": "",
           "title": {
            "standoff": 15
           },
           "zerolinecolor": "white",
           "zerolinewidth": 2
          },
          "yaxis": {
           "automargin": true,
           "gridcolor": "white",
           "linecolor": "white",
           "ticks": "",
           "title": {
            "standoff": 15
           },
           "zerolinecolor": "white",
           "zerolinewidth": 2
          }
         }
        }
       }
      }
     },
     "metadata": {},
     "output_type": "display_data"
    }
   ],
   "source": [
    "stock_analysis = StockAnalyzer('test')\n",
    "stock_analysis.candlestick_plot(df_p[df_p['ticker'] == 'SOLV'])"
   ]
  }
 ],
 "metadata": {
  "kernelspec": {
   "display_name": "coin",
   "language": "python",
   "name": "python3"
  },
  "language_info": {
   "codemirror_mode": {
    "name": "ipython",
    "version": 3
   },
   "file_extension": ".py",
   "mimetype": "text/x-python",
   "name": "python",
   "nbconvert_exporter": "python",
   "pygments_lexer": "ipython3",
   "version": "3.12.3"
  }
 },
 "nbformat": 4,
 "nbformat_minor": 2
}
